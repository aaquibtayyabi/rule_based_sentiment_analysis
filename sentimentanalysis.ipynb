{
 "cells": [
  {
   "cell_type": "code",
   "execution_count": 1,
   "id": "602ec019-5e53-44c3-b934-af8b7b33df16",
   "metadata": {},
   "outputs": [
    {
     "name": "stderr",
     "output_type": "stream",
     "text": [
      "[nltk_data] Downloading package vader_lexicon to\n",
      "[nltk_data]     C:\\Users\\aaqui\\AppData\\Roaming\\nltk_data...\n",
      "[nltk_data]   Package vader_lexicon is already up-to-date!\n"
     ]
    },
    {
     "data": {
      "text/plain": [
       "True"
      ]
     },
     "execution_count": 1,
     "metadata": {},
     "output_type": "execute_result"
    }
   ],
   "source": [
    "import nltk\n",
    "import pandas as pd\n",
    "from nltk.sentiment.vader import SentimentIntensityAnalyzer\n",
    "nltk.download(\"vader_lexicon\")"
   ]
  },
  {
   "cell_type": "code",
   "execution_count": 2,
   "id": "1a9df1ef-a9dc-4eec-8905-5dcca3f6e417",
   "metadata": {},
   "outputs": [],
   "source": [
    "data = pd.read_csv(\"./data/aiareviews.csv\")"
   ]
  },
  {
   "cell_type": "code",
   "execution_count": 3,
   "id": "47a3cb48-1293-46f2-a286-9705f41edfb6",
   "metadata": {},
   "outputs": [
    {
     "name": "stdout",
     "output_type": "stream",
     "text": [
      "   Unnamed: 0                                            reviews       dates  \\\n",
      "0           0  \"AIA with his Vitality program is such a good ...  2024-05-28   \n",
      "1           1  \"Purchased a policy via a broker 22 years ago,...  2024-05-22   \n",
      "2           2  \"Seamless experience setting up my Life Cover ...  2024-05-22   \n",
      "3           3  \"Policy has just sat there. I've never made a ...  2024-05-09   \n",
      "4           4  \"They seem to be okay but we haven't made a cl...  2024-04-29   \n",
      "\n",
      "           names  \n",
      "0  William (NSW)  \n",
      "1     Vlad (VIC)  \n",
      "2      KIN (VIC)  \n",
      "3    Trent (NSW)  \n",
      "4   Karlie (QLD)  \n"
     ]
    }
   ],
   "source": [
    "print(data.head())"
   ]
  },
  {
   "cell_type": "code",
   "execution_count": 4,
   "id": "d06a935c-a3eb-4708-8d79-c44fc235cb51",
   "metadata": {},
   "outputs": [],
   "source": [
    "sentiments = SentimentIntensityAnalyzer()\n",
    "# Calculate the sentiment scores for each review\n",
    "data[\"Positive\"] = [sentiments.polarity_scores(i)[\"pos\"] for i in data[\"reviews\"]]\n",
    "data[\"Negative\"] = [sentiments.polarity_scores(i)[\"neg\"] for i in data[\"reviews\"]]\n",
    "data[\"Neutral\"] = [sentiments.polarity_scores(i)[\"neu\"] for i in data[\"reviews\"]]\n",
    "data[\"Compound\"] = [sentiments.polarity_scores(i)[\"compound\"] for i in data[\"reviews\"]]\n"
   ]
  },
  {
   "cell_type": "code",
   "execution_count": 5,
   "id": "c66b9d9f-1f19-4c61-aa06-93ccf7718b3d",
   "metadata": {},
   "outputs": [
    {
     "data": {
      "text/html": [
       "<div>\n",
       "<style scoped>\n",
       "    .dataframe tbody tr th:only-of-type {\n",
       "        vertical-align: middle;\n",
       "    }\n",
       "\n",
       "    .dataframe tbody tr th {\n",
       "        vertical-align: top;\n",
       "    }\n",
       "\n",
       "    .dataframe thead th {\n",
       "        text-align: right;\n",
       "    }\n",
       "</style>\n",
       "<table border=\"1\" class=\"dataframe\">\n",
       "  <thead>\n",
       "    <tr style=\"text-align: right;\">\n",
       "      <th></th>\n",
       "      <th>Unnamed: 0</th>\n",
       "      <th>reviews</th>\n",
       "      <th>dates</th>\n",
       "      <th>names</th>\n",
       "      <th>Positive</th>\n",
       "      <th>Negative</th>\n",
       "      <th>Neutral</th>\n",
       "      <th>Compound</th>\n",
       "      <th>Sentiment</th>\n",
       "    </tr>\n",
       "  </thead>\n",
       "  <tbody>\n",
       "    <tr>\n",
       "      <th>0</th>\n",
       "      <td>0</td>\n",
       "      <td>\"AIA with his Vitality program is such a good ...</td>\n",
       "      <td>2024-05-28</td>\n",
       "      <td>William (NSW)</td>\n",
       "      <td>0.257</td>\n",
       "      <td>0.000</td>\n",
       "      <td>0.743</td>\n",
       "      <td>0.7650</td>\n",
       "      <td>Positive</td>\n",
       "    </tr>\n",
       "    <tr>\n",
       "      <th>1</th>\n",
       "      <td>1</td>\n",
       "      <td>\"Purchased a policy via a broker 22 years ago,...</td>\n",
       "      <td>2024-05-22</td>\n",
       "      <td>Vlad (VIC)</td>\n",
       "      <td>0.161</td>\n",
       "      <td>0.107</td>\n",
       "      <td>0.732</td>\n",
       "      <td>0.4939</td>\n",
       "      <td>Positive</td>\n",
       "    </tr>\n",
       "    <tr>\n",
       "      <th>2</th>\n",
       "      <td>2</td>\n",
       "      <td>\"Seamless experience setting up my Life Cover ...</td>\n",
       "      <td>2024-05-22</td>\n",
       "      <td>KIN (VIC)</td>\n",
       "      <td>0.054</td>\n",
       "      <td>0.046</td>\n",
       "      <td>0.900</td>\n",
       "      <td>0.1007</td>\n",
       "      <td>Positive</td>\n",
       "    </tr>\n",
       "    <tr>\n",
       "      <th>3</th>\n",
       "      <td>3</td>\n",
       "      <td>\"Policy has just sat there. I've never made a ...</td>\n",
       "      <td>2024-05-09</td>\n",
       "      <td>Trent (NSW)</td>\n",
       "      <td>0.102</td>\n",
       "      <td>0.189</td>\n",
       "      <td>0.709</td>\n",
       "      <td>-0.5957</td>\n",
       "      <td>Negative</td>\n",
       "    </tr>\n",
       "    <tr>\n",
       "      <th>4</th>\n",
       "      <td>4</td>\n",
       "      <td>\"They seem to be okay but we haven't made a cl...</td>\n",
       "      <td>2024-04-29</td>\n",
       "      <td>Karlie (QLD)</td>\n",
       "      <td>0.139</td>\n",
       "      <td>0.000</td>\n",
       "      <td>0.861</td>\n",
       "      <td>0.1154</td>\n",
       "      <td>Positive</td>\n",
       "    </tr>\n",
       "  </tbody>\n",
       "</table>\n",
       "</div>"
      ],
      "text/plain": [
       "   Unnamed: 0                                            reviews       dates  \\\n",
       "0           0  \"AIA with his Vitality program is such a good ...  2024-05-28   \n",
       "1           1  \"Purchased a policy via a broker 22 years ago,...  2024-05-22   \n",
       "2           2  \"Seamless experience setting up my Life Cover ...  2024-05-22   \n",
       "3           3  \"Policy has just sat there. I've never made a ...  2024-05-09   \n",
       "4           4  \"They seem to be okay but we haven't made a cl...  2024-04-29   \n",
       "\n",
       "           names  Positive  Negative  Neutral  Compound Sentiment  \n",
       "0  William (NSW)     0.257     0.000    0.743    0.7650  Positive  \n",
       "1     Vlad (VIC)     0.161     0.107    0.732    0.4939  Positive  \n",
       "2      KIN (VIC)     0.054     0.046    0.900    0.1007  Positive  \n",
       "3    Trent (NSW)     0.102     0.189    0.709   -0.5957  Negative  \n",
       "4   Karlie (QLD)     0.139     0.000    0.861    0.1154  Positive  "
      ]
     },
     "execution_count": 5,
     "metadata": {},
     "output_type": "execute_result"
    }
   ],
   "source": [
    "# Classify each review as Positive, Negative and Neutral\n",
    "score = data[\"Compound\"].values\n",
    "sentiment = []\n",
    "for i in score:\n",
    "    if i >= 0.05 :\n",
    "        sentiment.append('Positive')\n",
    "    elif i <= -0.05 :\n",
    "        sentiment.append('Negative')\n",
    "    else:\n",
    "        sentiment.append('Neutral')\n",
    "data[\"Sentiment\"] = sentiment\n",
    "data.head()"
   ]
  },
  {
   "cell_type": "code",
   "execution_count": 6,
   "id": "83a5a4fb-b724-4778-b83b-b4230dc37240",
   "metadata": {},
   "outputs": [
    {
     "name": "stdout",
     "output_type": "stream",
     "text": [
      "Sentiment\n",
      "Positive    152\n",
      "Negative     38\n",
      "Neutral      30\n",
      "Name: count, dtype: int64\n"
     ]
    }
   ],
   "source": [
    "print(data[\"Sentiment\"].value_counts())"
   ]
  },
  {
   "cell_type": "code",
   "execution_count": 7,
   "id": "d7bf0582-3d6a-4ec5-a7c3-10c743afe2fc",
   "metadata": {},
   "outputs": [],
   "source": [
    "data.to_csv(\"labelled_aia_reviews.csv\", index=False) #exports the df to the csv file"
   ]
  },
  {
   "cell_type": "code",
   "execution_count": 8,
   "id": "b5e1762d-1835-4c87-aee7-06acc9e62f30",
   "metadata": {},
   "outputs": [
    {
     "name": "stdout",
     "output_type": "stream",
     "text": [
      "   Unnamed: 0                                            reviews       dates  \\\n",
      "0           0  \"AIA with his Vitality program is such a good ...  2024-05-28   \n",
      "1           1  \"Purchased a policy via a broker 22 years ago,...  2024-05-22   \n",
      "2           2  \"Seamless experience setting up my Life Cover ...  2024-05-22   \n",
      "3           3  \"Policy has just sat there. I've never made a ...  2024-05-09   \n",
      "4           4  \"They seem to be okay but we haven't made a cl...  2024-04-29   \n",
      "\n",
      "           names  Positive  Negative  Neutral  Compound Sentiment  \n",
      "0  William (NSW)     0.257     0.000    0.743    0.7650  Positive  \n",
      "1     Vlad (VIC)     0.161     0.107    0.732    0.4939  Positive  \n",
      "2      KIN (VIC)     0.054     0.046    0.900    0.1007  Positive  \n",
      "3    Trent (NSW)     0.102     0.189    0.709   -0.5957  Negative  \n",
      "4   Karlie (QLD)     0.139     0.000    0.861    0.1154  Positive  \n"
     ]
    }
   ],
   "source": [
    "print(data.head())"
   ]
  },
  {
   "cell_type": "code",
   "execution_count": null,
   "id": "7d125750-d1bb-4887-b709-803e32ee9994",
   "metadata": {},
   "outputs": [],
   "source": []
  }
 ],
 "metadata": {
  "kernelspec": {
   "display_name": "Python 3 (ipykernel)",
   "language": "python",
   "name": "python3"
  },
  "language_info": {
   "codemirror_mode": {
    "name": "ipython",
    "version": 3
   },
   "file_extension": ".py",
   "mimetype": "text/x-python",
   "name": "python",
   "nbconvert_exporter": "python",
   "pygments_lexer": "ipython3",
   "version": "3.11.5"
  }
 },
 "nbformat": 4,
 "nbformat_minor": 5
}
